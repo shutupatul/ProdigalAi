{
 "cells": [
  {
   "cell_type": "markdown",
   "id": "53812cda-58ea-4d8c-bfc5-74235f870338",
   "metadata": {},
   "source": [
    "# nanoGPT Implementation: Detailed Explanation"
   ]
  },
  {
   "cell_type": "markdown",
   "id": "0190c5c7-ded2-4a36-9bae-3f7469b6362e",
   "metadata": {},
   "source": [
    "## 1. Importing Required Libraries"
   ]
  },
  {
   "cell_type": "code",
   "execution_count": 5,
   "id": "95e2a168-0bc7-47c0-8777-5388414ba2ca",
   "metadata": {},
   "outputs": [],
   "source": [
    "import torch\n",
    "import torch.nn as nn\n",
    "from torch.nn import functional as F"
   ]
  },
  {
   "cell_type": "markdown",
   "id": "860d8ce4-c802-49b3-a3e5-8e9a3c125469",
   "metadata": {},
   "source": [
    "torch: The core PyTorch library for deep learning operations.\n",
    "\n",
    "torch.nn: Contains various neural network building blocks like layers, activation functions, and loss functions.\n",
    "\n",
    "torch.nn.functional: Provides a functional API for layers and activation functions, often used in models without explicit layer objects."
   ]
  },
  {
   "cell_type": "markdown",
   "id": "70bae0cb-ee14-43fb-98c3-afce5d241f77",
   "metadata": {},
   "source": [
    "## 2. Defining Hyperparameters"
   ]
  },
  {
   "cell_type": "code",
   "execution_count": 9,
   "id": "7da089b2-c10d-4ea4-83c9-37aff7cca665",
   "metadata": {},
   "outputs": [],
   "source": [
    "batch_size = 16  # Number of parallel sequences processed\n",
    "block_size = 32  # Maximum context length for predictions\n",
    "max_iters = 5000  # Total training iterations\n",
    "eval_interval = 100  # Frequency of evaluation during training\n",
    "learning_rate = 1e-3  # Step size for updating weights\n",
    "device = 'cuda' if torch.cuda.is_available() else 'cpu'  # Use GPU if available, else CPU\n",
    "eval_iters = 200  # Number of iterations used for evaluation\n",
    "n_embd = 64  # Embedding size for token representation\n",
    "n_head = 4  # Number of attention heads\n",
    "n_layer = 4  # Number of Transformer blocks\n",
    "dropout = 0.0  # Dropout rate to prevent overfitting"
   ]
  },
  {
   "cell_type": "markdown",
   "id": "60079e06-b70c-4722-98ae-cc6aa4506d16",
   "metadata": {},
   "source": [
    "These hyperparameters control the model's complexity, training efficiency, and optimization strategy.\n",
    "\n",
    "The device variable ensures that the model runs on GPU if available, which speeds up training."
   ]
  },
  {
   "cell_type": "markdown",
   "id": "e8f27a0c-9f57-4868-864c-6c2efe62af95",
   "metadata": {},
   "source": [
    "## 3. Setting Random Seed"
   ]
  },
  {
   "cell_type": "code",
   "execution_count": null,
   "id": "8e854716-be9e-499d-8c03-fabb6ca944c8",
   "metadata": {},
   "outputs": [],
   "source": [
    "torch.manual_seed(1337)\n"
   ]
  },
  {
   "cell_type": "markdown",
   "id": "0b469b21-7308-4d5c-86f7-367c161700bd",
   "metadata": {},
   "source": [
    "Fixes the random number generator's seed for reproducibility.\n",
    "\n",
    "Ensures the same results across multiple runs."
   ]
  },
  {
   "cell_type": "markdown",
   "id": "8d3a99e8-38c3-4b7a-8864-2daad7141ffb",
   "metadata": {},
   "source": [
    "## 4. Data Loading: Reading Dataset"
   ]
  },
  {
   "cell_type": "code",
   "execution_count": null,
   "id": "a66c27a2",
   "metadata": {},
   "outputs": [],
   "source": [
    "with open('input.txt', 'r', encoding='utf-8') as f:\n",
    "    text = f.read()"
   ]
  },
  {
   "cell_type": "markdown",
   "id": "0f8a94c6-7909-4b9a-a73f-9335c2a403eb",
   "metadata": {},
   "source": [
    "Reads the input.txt file (a text dataset).\n",
    "\n",
    "This dataset is used to train the language model.\n"
   ]
  },
  {
   "cell_type": "markdown",
   "id": "bc421b50-b01e-4cb1-9834-2df5194869cf",
   "metadata": {},
   "source": [
    "## 5. Character-Level Tokenization"
   ]
  },
  {
   "cell_type": "code",
   "execution_count": null,
   "id": "156e6de6-592a-4ba4-866f-41a60ebb6890",
   "metadata": {},
   "outputs": [],
   "source": [
    "chars = sorted(list(set(text)))\n",
    "vocab_size = len(chars)\n",
    "\n",
    "stoi = { ch:i for i,ch in enumerate(chars) }  # String-to-Index mapping\n",
    "itos = { i:ch for i,ch in enumerate(chars) }  # Index-to-String mapping\n",
    "\n",
    "encode = lambda s: [stoi[c] for c in s]  # Converts text to numerical tokens\n",
    "decode = lambda l: ''.join([itos[i] for i in l])  # Converts tokens back to text"
   ]
  },
  {
   "cell_type": "markdown",
   "id": "c3d5aae2-b87c-4c55-8858-61fad1b9daf4",
   "metadata": {},
   "source": [
    "Extracts unique characters in the dataset, forming a vocabulary.\n",
    "\n",
    "Creates mappings to convert characters to integers (stoi) and vice versa (itos).\n",
    "\n",
    "Defines encode() and decode() functions to convert text to numerical tokens and back."
   ]
  },
  {
   "cell_type": "markdown",
   "id": "c59bd8c4-ad01-4aa8-9497-d9237cab8b59",
   "metadata": {},
   "source": [
    "## 6. Splitting Dataset into Train & Validation Sets"
   ]
  },
  {
   "cell_type": "code",
   "execution_count": null,
   "id": "4b3cc0f3-67a9-4b59-b40f-493a53833d73",
   "metadata": {},
   "outputs": [],
   "source": [
    "data = torch.tensor(encode(text), dtype=torch.long)\n",
    "n = int(0.9 * len(data))  # 90% for training, 10% for validation\n",
    "train_data = data[:n]\n",
    "val_data = data[n:]"
   ]
  },
  {
   "cell_type": "markdown",
   "id": "cc9667ce-c5df-4f50-b1e7-6f67140f88db",
   "metadata": {},
   "source": [
    "The dataset is converted into a PyTorch tensor for efficient processing.\n",
    "\n",
    "Splits data into 90% training and 10% validation to evaluate generalization."
   ]
  },
  {
   "cell_type": "markdown",
   "id": "1db7a77f-b258-4599-bd60-780fcb7f3a6c",
   "metadata": {},
   "source": [
    "## 7. Function to Generate Training Batches"
   ]
  },
  {
   "cell_type": "code",
   "execution_count": null,
   "id": "56445ddf-97ee-49a7-814c-7978d9e3dda0",
   "metadata": {},
   "outputs": [],
   "source": [
    "def get_batch(split):\n",
    "    data = train_data if split == 'train' else val_data\n",
    "    ix = torch.randint(len(data) - block_size, (batch_size,))\n",
    "    x = torch.stack([data[i:i+block_size] for i in ix])\n",
    "    y = torch.stack([data[i+1:i+block_size+1] for i in ix])\n",
    "    x, y = x.to(device), y.to(device)\n",
    "    return x, y"
   ]
  },
  {
   "cell_type": "markdown",
   "id": "9e39f130-5254-4a5c-ad02-8d84b809e20e",
   "metadata": {},
   "source": [
    "Randomly selects sequences of length block_size from the dataset.\n",
    "\n",
    "Prepares:\n",
    "\n",
    "    -Inputs (x): Sequence of characters.\n",
    "\n",
    "    -Targets (y): Next character corresponding to each input.\n",
    "\n",
    "Moves data to the specified device (CPU/GPU)."
   ]
  },
  {
   "cell_type": "markdown",
   "id": "39cb6eff-3328-45ad-931b-c693cf8f94f4",
   "metadata": {},
   "source": [
    "## 8. Loss Estimation Function"
   ]
  },
  {
   "cell_type": "code",
   "execution_count": null,
   "id": "8a699933-3bfa-4654-8a08-1a2291170bed",
   "metadata": {},
   "outputs": [],
   "source": [
    "@torch.no_grad()\n",
    "def estimate_loss():\n",
    "    out = {}\n",
    "    model.eval()\n",
    "    for split in ['train', 'val']:\n",
    "        losses = torch.zeros(eval_iters)\n",
    "        for k in range(eval_iters):\n",
    "            X, Y = get_batch(split)\n",
    "            logits, loss = model(X, Y)\n",
    "            losses[k] = loss.item()\n",
    "        out[split] = losses.mean()\n",
    "    model.train()\n",
    "    return out"
   ]
  },
  {
   "cell_type": "markdown",
   "id": "78227988-1874-471a-aa0f-378e1c0b268e",
   "metadata": {},
   "source": [
    "Uses @torch.no_grad() to disable gradient calculation (saves memory).\n",
    "\n",
    "Computes average loss for both training and validation sets over eval_iters batches.\n",
    "\n",
    "Switches the model to evaluation mode (model.eval()) and back to training mode (model.train())."
   ]
  },
  {
   "cell_type": "markdown",
   "id": "6403159e-07c6-457f-b89b-4cacdbe34fbd",
   "metadata": {},
   "source": [
    "## 9. Transformer Components"
   ]
  },
  {
   "cell_type": "markdown",
   "id": "6c5b5a1b-8ecf-4ef5-b069-d896a515f289",
   "metadata": {},
   "source": [
    "### (a) Single Attention Head"
   ]
  },
  {
   "cell_type": "code",
   "execution_count": 40,
   "id": "8a2df8ab-d704-4e00-b977-5b8e3c257d60",
   "metadata": {},
   "outputs": [],
   "source": [
    "class Head(nn.Module):\n",
    "    def __init__(self, head_size):\n",
    "        super().__init__()\n",
    "        self.key = nn.Linear(n_embd, head_size, bias=False)\n",
    "        self.query = nn.Linear(n_embd, head_size, bias=False)\n",
    "        self.value = nn.Linear(n_embd, head_size, bias=False)\n",
    "        self.register_buffer('tril', torch.tril(torch.ones(block_size, block_size)))\n",
    "        self.dropout = nn.Dropout(dropout)"
   ]
  },
  {
   "cell_type": "markdown",
   "id": "43496cf2-4fc5-426a-8e52-3239d721e351",
   "metadata": {},
   "source": [
    "Implements a single self-attention head.\n",
    "\n",
    "key, query, value projections extract different representations of input embeddings.\n",
    "\n",
    "tril ensures causality (prevents attending to future tokens).\n",
    "\n",
    "Dropout prevents overfitting."
   ]
  },
  {
   "cell_type": "markdown",
   "id": "0b6f9baf-0af3-40ea-bef7-031f65af1fb9",
   "metadata": {},
   "source": [
    "### (b) Multi-Head Attention"
   ]
  },
  {
   "cell_type": "code",
   "execution_count": null,
   "id": "b61889db-789e-4774-988e-560215d20b45",
   "metadata": {},
   "outputs": [],
   "source": [
    "class MultiHeadAttention(nn.Module):\n",
    "    def __init__(self, num_heads, head_size):\n",
    "        super().__init__()\n",
    "        self.heads = nn.ModuleList([Head(head_size) for _ in range(num_heads)])\n",
    "        self.proj = nn.Linear(n_embd, n_embd)\n",
    "        self.dropout = nn.Dropout(dropout)"
   ]
  },
  {
   "cell_type": "markdown",
   "id": "f5a7bbac-5353-449c-a5a8-e49174c69a94",
   "metadata": {},
   "source": [
    "Combines multiple attention heads for richer feature extraction.\n",
    "\n",
    "Concatenates outputs of all attention heads.\n",
    "\n",
    "Projects the output to match the embedding size."
   ]
  },
  {
   "cell_type": "markdown",
   "id": "cfdae28e-3413-49e1-af4d-9eba09f0baa7",
   "metadata": {},
   "source": [
    "### (c) Feed Forward Network"
   ]
  },
  {
   "cell_type": "code",
   "execution_count": null,
   "id": "14ad6bd6-e804-4602-b98f-8c9e6f652587",
   "metadata": {},
   "outputs": [],
   "source": [
    "class FeedFoward(nn.Module):\n",
    "    def __init__(self, n_embd):\n",
    "        super().__init__()\n",
    "        self.net = nn.Sequential(\n",
    "            nn.Linear(n_embd, 4 * n_embd),\n",
    "            nn.ReLU(),\n",
    "            nn.Linear(4 * n_embd, n_embd),\n",
    "            nn.Dropout(dropout),\n",
    "        )"
   ]
  },
  {
   "cell_type": "markdown",
   "id": "fbe47677-d691-42e3-b513-a0be13a99f1b",
   "metadata": {},
   "source": [
    "Uses two linear layers with ReLU activation.\n",
    "\n",
    "Expands then compresses feature space (4 * n_embd → n_embd)."
   ]
  },
  {
   "cell_type": "markdown",
   "id": "024604ca-769b-484b-98b3-28b13971b341",
   "metadata": {},
   "source": [
    "### (d) Transformer Block"
   ]
  },
  {
   "cell_type": "code",
   "execution_count": null,
   "id": "8a1abf97-8f01-4141-985f-ab4d5a6f46e9",
   "metadata": {},
   "outputs": [],
   "source": [
    "class Block(nn.Module):\n",
    "    def __init__(self, n_embd, n_head):\n",
    "        super().__init__()\n",
    "        head_size = n_embd // n_head\n",
    "        self.sa = MultiHeadAttention(n_head, head_size)\n",
    "        self.ffwd = FeedFoward(n_embd)\n",
    "        self.ln1 = nn.LayerNorm(n_embd)\n",
    "        self.ln2 = nn.LayerNorm(n_embd)"
   ]
  },
  {
   "cell_type": "markdown",
   "id": "8529655d-a6b9-4d2f-94a6-cc985ab2beca",
   "metadata": {},
   "source": [
    "Implements self-attention followed by feed-forward layers.\n",
    "\n",
    "Uses Layer Normalization (ln1, ln2) to stabilize training."
   ]
  },
  {
   "cell_type": "markdown",
   "id": "ca3c4146-9459-4927-99ca-71d7f54449ee",
   "metadata": {},
   "source": [
    "## 10. Bigram Language Model"
   ]
  },
  {
   "cell_type": "code",
   "execution_count": null,
   "id": "d563d135-25e1-41f8-abe0-86924c1578b3",
   "metadata": {},
   "outputs": [],
   "source": [
    "class BigramLanguageModel(nn.Module):\n",
    "    def __init__(self):\n",
    "        super().__init__()\n",
    "        self.token_embedding_table = nn.Embedding(vocab_size, n_embd)\n",
    "        self.position_embedding_table = nn.Embedding(block_size, n_embd)\n",
    "        self.blocks = nn.Sequential(*[Block(n_embd, n_head=n_head) for _ in range(n_layer)])\n",
    "        self.ln_f = nn.LayerNorm(n_embd)\n",
    "        self.lm_head = nn.Linear(n_embd, vocab_size)"
   ]
  },
  {
   "cell_type": "markdown",
   "id": "29f1f6d8-ebc8-4dd6-989d-ba3443757ea9",
   "metadata": {},
   "source": [
    "Uses token + position embeddings.\n",
    "\n",
    "Stacks multiple transformer blocks.\n",
    "\n",
    "Applies LayerNorm before final classification layer."
   ]
  },
  {
   "cell_type": "markdown",
   "id": "791e5941-830c-4859-bdac-20ed6676f495",
   "metadata": {},
   "source": [
    "## 11. Training & Text Generation"
   ]
  },
  {
   "cell_type": "code",
   "execution_count": null,
   "id": "590c519a-ed0b-4493-9d13-2489106ca146",
   "metadata": {},
   "outputs": [],
   "source": [
    "for iter in range(max_iters):\n",
    "    xb, yb = get_batch('train')\n",
    "    logits, loss = model(xb, yb)\n",
    "    optimizer.zero_grad(set_to_none=True)\n",
    "    loss.backward()\n",
    "    optimizer.step()"
   ]
  },
  {
   "cell_type": "markdown",
   "id": "3c568ce1-d7a6-428a-bbab-fabe58d3cbdd",
   "metadata": {},
   "source": [
    "Optimizes using AdamW.\n",
    "\n",
    "Generates text from the trained model."
   ]
  },
  {
   "cell_type": "markdown",
   "id": "8055d2cc-855d-4cda-ba64-9f6dc6ef3134",
   "metadata": {},
   "source": [
    "## Generate from the model"
   ]
  },
  {
   "cell_type": "code",
   "execution_count": null,
   "id": "04812b28-8acd-43fc-8e10-e0f908a764a9",
   "metadata": {},
   "outputs": [],
   "source": [
    "context = torch.zeros((1, 1), dtype=torch.long, device=device)\n",
    "print(decode(m.generate(context, max_new_tokens=2000)[0].tolist()))"
   ]
  },
  {
   "cell_type": "markdown",
   "id": "5fd96986-f93b-4d77-bae3-4fe6be227f48",
   "metadata": {},
   "source": [
    "### Conclusion\n",
    "Implements GPT-like text generation with a transformer-based approach.\n",
    "\n",
    "Uses multi-head attention and feed-forward layers for character-level modeling.\n",
    "\n",
    "Trains with backpropagation and gradient descent."
   ]
  }
 ],
 "metadata": {
  "kernelspec": {
   "display_name": "Python [conda env:base] *",
   "language": "python",
   "name": "conda-base-py"
  },
  "language_info": {
   "codemirror_mode": {
    "name": "ipython",
    "version": 3
   },
   "file_extension": ".py",
   "mimetype": "text/x-python",
   "name": "python",
   "nbconvert_exporter": "python",
   "pygments_lexer": "ipython3",
   "version": "3.11.7"
  }
 },
 "nbformat": 4,
 "nbformat_minor": 5
}
